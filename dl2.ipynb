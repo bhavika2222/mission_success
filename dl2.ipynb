{
  "nbformat": 4,
  "nbformat_minor": 0,
  "metadata": {
    "colab": {
      "provenance": [],
      "authorship_tag": "ABX9TyOaCRFv8Pg2L6HZ3JLb4pHc",
      "include_colab_link": true
    },
    "kernelspec": {
      "name": "python3",
      "display_name": "Python 3"
    },
    "language_info": {
      "name": "python"
    }
  },
  "cells": [
    {
      "cell_type": "markdown",
      "metadata": {
        "id": "view-in-github",
        "colab_type": "text"
      },
      "source": [
        "<a href=\"https://colab.research.google.com/github/bhavika2222/mission_success/blob/main/dl2.ipynb\" target=\"_parent\"><img src=\"https://colab.research.google.com/assets/colab-badge.svg\" alt=\"Open In Colab\"/></a>"
      ]
    },
    {
      "cell_type": "code",
      "source": [
        "#FEEDFORWARD NEURAL NETWORK WITH KERAS AND TENSORFLOW\n",
        "#NO DATASET UPLOADING REQUIRED\n",
        "\n",
        "\n",
        "#Import the necessary packages\n",
        "import tensorflow as tf\n",
        "from tensorflow.keras import layers, models\n",
        "from tensorflow.keras.datasets import mnist\n",
        "import matplotlib.pyplot as plt\n",
        "\n",
        "# Load the MNIST dataset and normalize the pixel values\n",
        "(train_images, train_labels), (test_images, test_labels) = mnist.load_data()\n",
        "train_images, test_images = train_images / 255.0, test_images / 255.0\n",
        "\n",
        "# Define and compile the model\n",
        "model = models.Sequential([layers.Flatten(input_shape=(28, 28)), layers.Dense(128, 'relu'), layers.Dense(10, 'softmax')])\n",
        "model.compile(optimizer='sgd', loss='sparse_categorical_crossentropy', metrics=['accuracy'])\n",
        "\n",
        "# Train the model and store history\n",
        "history = model.fit(train_images, train_labels, epochs=10, validation_data=(test_images, test_labels))\n",
        "\n",
        "# Evaluate and print the test accuracy\n",
        "print(f'Test accuracy: {model.evaluate(test_images, test_labels)[1]}')\n",
        "\n",
        "# Plot training loss and accuracy\n",
        "plt.plot(history.history['loss'], label='Training Loss')\n",
        "plt.plot(history.history['accuracy'], label='Training Accuracy')\n",
        "plt.xlabel('Epoch')\n",
        "plt.legend()\n",
        "plt.show()"
      ],
      "metadata": {
        "id": "QWdzK4Fv1EU8"
      },
      "execution_count": 1,
      "outputs": []
    }
  ]
}