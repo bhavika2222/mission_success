{
  "nbformat": 4,
  "nbformat_minor": 0,
  "metadata": {
    "colab": {
      "provenance": [],
      "authorship_tag": "ABX9TyPoMHkvfJ2G3XM0A+dOTBWD",
      "include_colab_link": true
    },
    "kernelspec": {
      "name": "python3",
      "display_name": "Python 3"
    },
    "language_info": {
      "name": "python"
    }
  },
  "cells": [
    {
      "cell_type": "markdown",
      "metadata": {
        "id": "view-in-github",
        "colab_type": "text"
      },
      "source": [
        "<a href=\"https://colab.research.google.com/github/bhavika2222/mission_success/blob/main/dl3.ipynb\" target=\"_parent\"><img src=\"https://colab.research.google.com/assets/colab-badge.svg\" alt=\"Open In Colab\"/></a>"
      ]
    },
    {
      "cell_type": "code",
      "execution_count": null,
      "metadata": {
        "id": "Rh9yge-y2YvO"
      },
      "outputs": [],
      "source": [
        "#IMAGE CLASSIFICATION\n",
        "#NO DATASET UPLOADING REQUIRED\n",
        "\n",
        "import numpy as np\n",
        "import matplotlib.pyplot as plt\n",
        "from keras.datasets import cifar10\n",
        "from keras.models import Sequential\n",
        "from keras.layers import Dense, Conv2D, MaxPool2D, Flatten, Dropout\n",
        "from keras.utils import to_categorical\n",
        "\n",
        "# Define the labels\n",
        "labels = ['airplane', 'automobile', 'bird', 'cat', 'deer', 'dog', 'frog', 'horse', 'ship', 'truck']\n",
        "\n",
        "# Load and preprocess the data\n",
        "(x_train, y_train), (x_test, y_test) = cifar10.load_data()\n",
        "x_train, x_test = x_train / 255, x_test / 255\n",
        "y_train_new, y_test_new = to_categorical(y_train), to_categorical(y_test)\n",
        "\n",
        "# Visualize some images\n",
        "plt.figure(figsize=(10, 10))\n",
        "for i in range(25):\n",
        "    plt.subplot(5, 5, i+1)\n",
        "    plt.xticks([])\n",
        "    plt.title(labels[y_train[i][0]])\n",
        "    plt.imshow(x_train[i])\n",
        "\n",
        "# Define the model\n",
        "model = Sequential([\n",
        "    Conv2D(32, (3, 3), input_shape=(32, 32, 3), activation='relu'),\n",
        "    MaxPool2D((2, 2)),\n",
        "    Dropout(0.2),\n",
        "    Conv2D(64, (3, 3), activation='relu'),\n",
        "    MaxPool2D((2, 2)),\n",
        "    Conv2D(32, (3, 3), activation='relu'),\n",
        "    MaxPool2D((2, 2)),\n",
        "    Flatten(),\n",
        "    Dense(512, activation='relu'),\n",
        "    Dense(10, activation='softmax')\n",
        "])\n",
        "\n",
        "# Model summary and compilation\n",
        "model.summary()\n",
        "model.compile(loss='categorical_crossentropy', optimizer='adam', metrics=['accuracy'])\n",
        "\n",
        "# Train the model\n",
        "model.fit(x_train, y_train_new, epochs=10, batch_size=20)\n",
        "\n",
        "# Evaluate the model\n",
        "model.evaluate(x_test, y_test_new, batch_size=1)\n",
        "\n",
        "# Display an image and predict its label\n",
        "plt.figure(figsize=(1, 1))\n",
        "plt.imshow(x_train[120])\n",
        "new = x_train[120].reshape(1, 32, 32, 3)\n",
        "predicted_label = labels[np.argmax(model.predict(new, verbose=0))]\n",
        "print(f\"Predicted Label: {predicted_label}\")\n",
        ""
      ]
    }
  ]
}